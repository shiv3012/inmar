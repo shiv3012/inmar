{
 "cells": [
  {
   "cell_type": "code",
   "execution_count": 17,
   "metadata": {},
   "outputs": [],
   "source": [
    "import os\n",
    "os.chdir(r\"C:\\Users\\shiva\\OneDrive\\Desktop\\Inmar\\Not_processed\")\n",
    "import pandas as pd\n",
    "import shutil\n",
    "\n"
   ]
  },
  {
   "cell_type": "code",
   "execution_count": 18,
   "metadata": {},
   "outputs": [],
   "source": [
    "def change_address(cur_dir):\n",
    "    path=r\"C:\\\\Users\\\\shiva\\\\OneDrive\\\\Desktop\\\\Inmar\\\\\" +cur_dir\n",
    "    os.chdir(path)\n",
    "    "
   ]
  },
  {
   "cell_type": "code",
   "execution_count": 19,
   "metadata": {},
   "outputs": [],
   "source": [
    "def file_check_module():\n",
    "    \n",
    "    #change the address to non processed folder\n",
    "    change_address(\"Not_processed\")\n",
    "    \n",
    "    # iterate through all file in the folder\n",
    "    \n",
    "    for file in os.listdir():\n",
    "        \n",
    "    #to check file extension ending with csv\n",
    "        if file.endswith(\".csv\"):\n",
    "            #check file is empty    \n",
    "            if os.stat(file).st_size!=0:\n",
    "            #save the file in processed folder\n",
    "                big_df1,bad_df1=Location_Validation(file)\n",
    "                \n",
    "                file_creation(big_df1,bad_df1,file)\n",
    "                src=r\"C:\\\\Users\\\\shiva\\\\OneDrive\\\\Desktop\\\\Inmar\\\\Not_processed\\\\\" +file\n",
    "                dst = r\"C:\\\\Users\\\\shiva\\\\OneDrive\\\\Desktop\\\\Inmar\\\\Processed\\\\\" +file\n",
    "                shutil.copyfile(src, dst)\n",
    "                \n",
    "                \n",
    "\n",
    "                #remove the file from not processed folder\n",
    "                change_address(\"Not_processed\")\n",
    "                os.remove(file)\n",
    "        else:\n",
    "            src=r\"C:\\\\Users\\\\shiva\\\\OneDrive\\\\Desktop\\\\Inmar\\\\Not_processed\\\\\" +file\n",
    "            dst = r\"C:\\\\Users\\\\shiva\\\\OneDrive\\\\Desktop\\\\Inmar\\\\Bad_file\\\\\" +file\n",
    "            shutil.copyfile(src, dst)\n",
    "            \n",
    "            \n",
    "            #remove the file from not processed folder\n",
    "            change_address(\"Not_processed\")\n",
    "            os.remove(file)\n",
    "            \n",
    "        \n",
    "            \n",
    "            \n",
    "\n",
    "    "
   ]
  },
  {
   "cell_type": "code",
   "execution_count": 20,
   "metadata": {},
   "outputs": [],
   "source": [
    "def read_area_df():\n",
    "    area=pd.read_excel(r\"C:\\Users\\shiva\\OneDrive\\Desktop\\Inmar\\Areas_in_blore.xlsx\")\n",
    "    \n",
    "    return area"
   ]
  },
  {
   "cell_type": "code",
   "execution_count": 21,
   "metadata": {},
   "outputs": [],
   "source": [
    "def Location_Validation(file):\n",
    "    #change the address to non processed folder\n",
    "    change_address(\"Not_processed\")\n",
    "    \n",
    "    # iterate through all file in the folder\n",
    "    area_df=read_area_df()\n",
    "    \n",
    "    big_df = pd.DataFrame()\n",
    "    bad_df=pd.DataFrame()\n",
    "    df=pd.read_csv(file)\n",
    "    \n",
    "\n",
    "\n",
    "\n",
    "    list_of_area=area_df['Area'].unique()    \n",
    "    for ar in list_of_area:\n",
    "\n",
    "        area_count=df.location.str.contains(ar).sum()\n",
    "        if area_count>0:\n",
    "            newdf=df[df[\"location\"]==ar]\n",
    "\n",
    "            big_df=big_df.append(newdf)\n",
    "    bad_df=df[~df.location.isin(list_of_area)]\n",
    "    print(\"big_df.shape\",big_df.shape)\n",
    "    print(\"bad_df.shape\",bad_df.shape)\n",
    "#     cond = df['location'].isin(big_df['location'])\n",
    "#     bad_df=df.drop(df[cond].index, inplace = True)\n",
    "#     cond = df['location'].isin(big_df['location'])\n",
    "#     bad_df=df.drop(df[cond].index, inplace = True)\n",
    "        \n",
    "        \n",
    "    return big_df,bad_df"
   ]
  },
  {
   "cell_type": "code",
   "execution_count": 22,
   "metadata": {},
   "outputs": [],
   "source": [
    "def change_address_creation_file(cur_dir):\n",
    "    path=r\"C:\\\\Users\\\\shiva\\\\OneDrive\\\\Desktop\\\\Inmar\\\\\" +cur_dir\n",
    "    os.chdir(path)"
   ]
  },
  {
   "cell_type": "code",
   "execution_count": 23,
   "metadata": {},
   "outputs": [],
   "source": [
    "def file_creation(df1,df2,file):\n",
    "   \n",
    "    path=file.split('.')\n",
    "    filename=path[0]\n",
    "    parent_dir = r\"C:\\Users\\shiva\\OneDrive\\Desktop\\Inmar\"\n",
    "    mode = 0o666\n",
    "\n",
    "    path = os.path.join(parent_dir, filename)\n",
    "    if not os.path.exists(path):\n",
    "        os.mkdir(path,mode)\n",
    "        change_address(filename)\n",
    "        df1.to_csv('a.out')\n",
    "        df2.to_csv('a.bad')"
   ]
  },
  {
   "cell_type": "code",
   "execution_count": null,
   "metadata": {},
   "outputs": [],
   "source": []
  },
  {
   "cell_type": "code",
   "execution_count": 24,
   "metadata": {},
   "outputs": [
    {
     "name": "stdout",
     "output_type": "stream",
     "text": [
      "big_df.shape (3615, 17)\n",
      "bad_df.shape (3764, 17)\n",
      "big_df.shape (858, 17)\n",
      "bad_df.shape (6520, 17)\n",
      "big_df.shape (3615, 17)\n",
      "bad_df.shape (3764, 17)\n"
     ]
    }
   ],
   "source": [
    "file_check_module()"
   ]
  },
  {
   "cell_type": "code",
   "execution_count": null,
   "metadata": {},
   "outputs": [],
   "source": []
  }
 ],
 "metadata": {
  "kernelspec": {
   "display_name": "Python 3",
   "language": "python",
   "name": "python3"
  },
  "language_info": {
   "codemirror_mode": {
    "name": "ipython",
    "version": 3
   },
   "file_extension": ".py",
   "mimetype": "text/x-python",
   "name": "python",
   "nbconvert_exporter": "python",
   "pygments_lexer": "ipython3",
   "version": "3.7.4"
  }
 },
 "nbformat": 4,
 "nbformat_minor": 2
}
